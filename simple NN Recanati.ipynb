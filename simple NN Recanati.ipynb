{
 "cells": [
  {
   "cell_type": "markdown",
   "metadata": {},
   "source": [
    "<h1 style=\"text-align: center;\" markdown=\"1\">Riconoscimento numeri scritti a mano</h1>"
   ]
  },
  {
   "cell_type": "markdown",
   "metadata": {},
   "source": [
    "## 1. 0 MNIST dataset\n",
    "Per creare una rete neurale \"**Multi-Layer Perceptrons**\" per il riconoscimento di numeri scritti a mano abbiamo bisogno di un dataset adatto. Per questo Keras ci mette a disposizione il dataset **MNIST** che è un dataset di immagini 28x28 pixels con all'interno 70.000 immagini di numeri scritti a mano, dove ad ogni immagine abbiamo il numero rappresentato. Questo dataset è diviso in train e test con rispettivamente 60.000 e 10.000 immagini."
   ]
  },
  {
   "cell_type": "code",
   "execution_count": 1,
   "metadata": {},
   "outputs": [
    {
     "name": "stderr",
     "output_type": "stream",
     "text": [
      "Using TensorFlow backend.\n"
     ]
    }
   ],
   "source": [
    "from keras.datasets import mnist\n",
    "import matplotlib.pyplot as plt\n",
    "# carichiamo (downloaded se necessario il MNIST dataset\n",
    "(X_train, y_train), (X_test, y_test) = mnist.load_data()"
   ]
  },
  {
   "cell_type": "markdown",
   "metadata": {},
   "source": [
    "Una volta caricato in memoria (se necessario il dataset viene scaricato automaticamente) siamo pronti per visualizzare un sub-set di esso, per vedere di che cosa stiamo parlando. Quindi grazie alla libreria matplotlib prendiamo le prime 4 immagini dal dataset e le mostriamo a video."
   ]
  },
  {
   "cell_type": "code",
   "execution_count": 2,
   "metadata": {},
   "outputs": [
    {
     "data": {
      "image/png": "[encoded data removed]",
      "text/plain": [
       "<Figure size 432x288 with 9 Axes>"
      ]
     },
     "metadata": {},
     "output_type": "display_data"
    }
   ],
   "source": [
    "# plot 4 images as gray scale\n",
    "fig = plt.figure()\n",
    "for i in range(9):\n",
    "  plt.subplot(3,3,i+1)\n",
    "  plt.tight_layout()\n",
    "  plt.imshow(X_train[i], cmap='gray', interpolation='none')\n",
    "  plt.title(\"Digit: {}\".format(y_train[i]))\n",
    "  plt.xticks([])\n",
    "  plt.yticks([])\n",
    "# show the plot\n",
    "plt.show()"
   ]
  },
  {
   "cell_type": "markdown",
   "metadata": {},
   "source": [
    "## 2.0 Neural Network Semplice"
   ]
  },
  {
   "cell_type": "markdown",
   "metadata": {},
   "source": [
    "#### Abbiamo bisogno di un modello complesso per effettuare un riconoscimento di immagini di questo tipo in maniera efficace?\n",
    "\n",
    "Siamo in grado di avere buoni risultati con una semplice rete neurale con un solo \"hidden layer\". Infatti, in questa sezione saremo in grado di creare una rete neurale con un errore sull'intorno del 1.80%. "
   ]
  },
  {
   "cell_type": "code",
   "execution_count": 3,
   "metadata": {},
   "outputs": [],
   "source": [
    "import numpy\n",
    "from keras.datasets import mnist\n",
    "from keras.models import Sequential\n",
    "from keras.layers import Dense\n",
    "from keras.layers import Dropout\n",
    "from keras.utils import np_utils\n",
    "import numpy as np # linear algebra\n",
    "import pandas as pd # data processing, CSV file I/O (e.g. pd.read_csv)\n",
    "import matplotlib.pyplot as plt #for plotting\n",
    "from collections import Counter\n",
    "from sklearn.metrics import confusion_matrix\n",
    "import itertools\n",
    "import seaborn as sns\n",
    "from subprocess import check_output"
   ]
  },
  {
   "cell_type": "markdown",
   "metadata": {},
   "source": [
    "Il set di dati di train è strutturato come una matrice tridimensionale composta da istanza, larghezza dell'immagine e altezza dell'immagine. Per un modello Multi-Layer Perceptrons dobbiamo ridurre le immagini in un vettore di pixel. In questo caso, le immagini di dimensioni 28 x 28 saranno transformati in vettori da 784 pixel di valori di input.\n",
    "\n",
    "Possiamo fare questa trasformazione facilmente usando la funzione reshape () della libreria NumPy. Possiamo inoltre ridurre i nostri requisiti di memoria forzando la precisione dei valori dei pixel a 32 bit, la precisione predefinita utilizzata da Keras in ogni caso."
   ]
  },
  {
   "cell_type": "code",
   "execution_count": 4,
   "metadata": {},
   "outputs": [],
   "source": [
    "# Fissiamo un seed random per essere in grado di riprodurre l'esempio\n",
    "numpy.random.seed(123)\n",
    "# Carichiamo i dati\n",
    "(X_train, y_train), (X_test, y_test) = mnist.load_data()\n",
    "# da immagini 28x28 le trasformiamo in un vettore di dimensione 784 per ciascun immagine \n",
    "num_pixels = X_train.shape[1] * X_train.shape[2]\n",
    "X_train = X_train.reshape(X_train.shape[0], num_pixels).astype('float32')\n",
    "X_test = X_test.reshape(X_test.shape[0], num_pixels).astype('float32')"
   ]
  },
  {
   "cell_type": "markdown",
   "metadata": {},
   "source": [
    "I valori dei pixel sono in scala di grigi tra 0 e 255. È quasi sempre una buona idea eseguire un ridimensionamento dei valori di input quando si utilizzano modelli di rete neurali. Poiché la scala è ben nota, possiamo normalizzare molto velocemente i valori dei pixel nell'intervallo 0 e 1 dividendo ogni valore per il massimo di 255."
   ]
  },
  {
   "cell_type": "code",
   "execution_count": 5,
   "metadata": {},
   "outputs": [],
   "source": [
    "# Normalizziamo gli input da 0-255 a 0-1\n",
    "X_train = X_train / 255\n",
    "X_test = X_test / 255"
   ]
  },
  {
   "cell_type": "markdown",
   "metadata": {},
   "source": [
    "Infine, la variabile di output è un numero intero compreso tra 0 e 9. Si tratta di un problema di classificazione multi-classe. Pertanto, è buona norma utilizzare una codifica dei valori di classe, trasformando il vettore di numeri di classe in una matrice binaria.\n",
    "\n",
    "Possiamo farlo facilmente utilizzando la funzione di supporto integrata np_utils.to_categorical () in Keras."
   ]
  },
  {
   "cell_type": "code",
   "execution_count": 6,
   "metadata": {},
   "outputs": [],
   "source": [
    "y_train = np_utils.to_categorical(y_train)\n",
    "y_test = np_utils.to_categorical(y_test)\n",
    "num_classes = y_test.shape[1]"
   ]
  },
  {
   "cell_type": "markdown",
   "metadata": {},
   "source": [
    "Il modello è una semplice rete neurale con un hidden layer con lo stesso numero di neuroni quanti sono gli input (784).\n",
    "\n",
    "Una funzione di attivazione softmax viene utilizzata sul livello di output per trasformare le uscite in valori di probabilità e consentire a una classe di 10 di essere selezionata come previsione di output del modello. La perdita logaritmica viene utilizzata come funzione di perdita (chiamata categorical_crossentropy in Keras) e l'efficiente algoritmo di discesa del gradiente ADAM viene utilizzato per apprendere i pesi."
   ]
  },
  {
   "cell_type": "markdown",
   "metadata": {},
   "source": [
    "<img src=\"img/nn.png\" alt=\"Drawing\" style=\"width: 500px;\"/>"
   ]
  },
  {
   "cell_type": "code",
   "execution_count": 7,
   "metadata": {},
   "outputs": [],
   "source": [
    "# Definizione del modello\n",
    "def baseline_model():\n",
    "    # Creazione del modello\n",
    "    model = Sequential()\n",
    "    model.add(Dense(num_pixels, input_dim=num_pixels, kernel_initializer='normal', activation='relu'))\n",
    "    model.add(Dense(num_classes, kernel_initializer='normal', activation='softmax'))\n",
    "    # Compilazione del modello\n",
    "    model.compile(loss='categorical_crossentropy', optimizer='adam', metrics=['accuracy'])\n",
    "    return model"
   ]
  },
  {
   "cell_type": "markdown",
   "metadata": {},
   "source": [
    "Ora possiamo addestrare e valutare il modello. Il modello è addestrato per oltre 10 epoche con aggiornamenti ogni 200 immagini. I dati del test vengono utilizzati come set di dati di convalida, consentendo di vedere l'abilità del modello mentre si allena. \n",
    "Infine, il set di dati di test viene utilizzato per valutare il modello e viene stampato un tasso di errore di classificazione."
   ]
  },
  {
   "cell_type": "code",
   "execution_count": 8,
   "metadata": {},
   "outputs": [
    {
     "name": "stdout",
     "output_type": "stream",
     "text": [
      "Train on 60000 samples, validate on 10000 samples\n",
      "Epoch 1/10\n",
      " - 3s - loss: 0.2835 - acc: 0.9186 - val_loss: 0.1335 - val_acc: 0.9621\n",
      "Epoch 2/10\n",
      " - 3s - loss: 0.1107 - acc: 0.9682 - val_loss: 0.0984 - val_acc: 0.9701\n",
      "Epoch 3/10\n",
      " - 3s - loss: 0.0712 - acc: 0.9795 - val_loss: 0.0769 - val_acc: 0.9757\n",
      "Epoch 4/10\n",
      " - 3s - loss: 0.0502 - acc: 0.9852 - val_loss: 0.0685 - val_acc: 0.9784\n",
      "Epoch 5/10\n",
      " - 3s - loss: 0.0368 - acc: 0.9896 - val_loss: 0.0634 - val_acc: 0.9809\n",
      "Epoch 6/10\n",
      " - 3s - loss: 0.0267 - acc: 0.9932 - val_loss: 0.0566 - val_acc: 0.9824\n",
      "Epoch 7/10\n",
      " - 3s - loss: 0.0190 - acc: 0.9953 - val_loss: 0.0628 - val_acc: 0.9801\n",
      "Epoch 8/10\n",
      " - 3s - loss: 0.0139 - acc: 0.9970 - val_loss: 0.0608 - val_acc: 0.9834\n",
      "Epoch 9/10\n",
      " - 3s - loss: 0.0103 - acc: 0.9979 - val_loss: 0.0555 - val_acc: 0.9836\n",
      "Epoch 10/10\n",
      " - 3s - loss: 0.0073 - acc: 0.9987 - val_loss: 0.0602 - val_acc: 0.9822\n",
      "Errore: 1.78%\n"
     ]
    }
   ],
   "source": [
    "# Costruiamo il modello\n",
    "model = baseline_model()\n",
    "# Addestriamo il modello\n",
    "model.fit(X_train, y_train, validation_data=(X_test, y_test), epochs=10, batch_size=200, verbose=2)\n",
    "#Valutazione finale del modello\n",
    "scores = model.evaluate(X_test, y_test, verbose=0)\n",
    "print(\"Errore: %.2f%%\" % (100-scores[1]*100))\n"
   ]
  },
  {
   "cell_type": "markdown",
   "metadata": {},
   "source": [
    "Per valutare al meglio dove il nostro modello sbaglia ci sono molti possibili metodi, ma in questo caso prendiamo uno molto semplice che si chiama **confusion matrix**. \n",
    "\n",
    "Wikipedia spiega: Nell'ambito dell'Intelligenza artificiale, la matrice di confusione, detta anche tabella di errata classificazione, restituisce una rappresentazione dell'accuratezza di classificazione statistica. Ogni colonna della matrice rappresenta i valori predetti, mentre ogni riga rappresenta i valori reali. L'elemento sulla riga i e sulla colonna j è il numero di casi in cui il classificatore ha classificato la classe \"vera\" i come classe j. Attraverso questa matrice è osservabile se vi è \"confusione\" nella classificazione di diverse classi."
   ]
  },
  {
   "cell_type": "code",
   "execution_count": 9,
   "metadata": {},
   "outputs": [],
   "source": [
    "def plot_confusion_matrix(cm, classes,\n",
    "                          normalize=False,\n",
    "                          title='Confusion matrix',\n",
    "                          cmap=plt.cm.Blues):\n",
    "    plt.imshow(cm, interpolation='nearest', cmap=cmap)\n",
    "    plt.title(title)\n",
    "    plt.colorbar()\n",
    "    tick_marks = np.arange(len(classes))\n",
    "    plt.xticks(tick_marks, classes, rotation=45)\n",
    "    plt.yticks(tick_marks, classes)\n",
    "\n",
    "    if normalize:\n",
    "        cm = cm.astype('float') / cm.sum(axis=1)[:, np.newaxis]\n",
    "\n",
    "    thresh = cm.max() / 2.\n",
    "    for i, j in itertools.product(range(cm.shape[0]), range(cm.shape[1])):\n",
    "        plt.text(j, i, cm[i, j],\n",
    "                 horizontalalignment=\"center\",\n",
    "                 color=\"white\" if cm[i, j] > thresh else \"black\")\n",
    "\n",
    "    plt.tight_layout()\n",
    "    plt.ylabel('Label giusta')\n",
    "    plt.xlabel('Label predetta')"
   ]
  },
  {
   "cell_type": "code",
   "execution_count": 10,
   "metadata": {},
   "outputs": [
    {
     "data": {
      "image/png": "[encoded data removed]",
      "text/plain": [
       "<Figure size 432x288 with 2 Axes>"
      ]
     },
     "metadata": {
      "needs_background": "light"
     },
     "output_type": "display_data"
    }
   ],
   "source": [
    "# Predict the values from the validation dataset\n",
    "Y_pred = model.predict(X_test)\n",
    "# Convert predictions classes to one hot vectors \n",
    "Y_pred_classes = np.argmax(Y_pred, axis = 1) \n",
    "# Convert validation observations to one hot vectors\n",
    "Y_true = np.argmax(y_test, axis = 1) \n",
    "# compute the confusion matrix\n",
    "confusion_mtx = confusion_matrix(Y_true, Y_pred_classes) \n",
    "# plot the confusion matrix\n",
    "plot_confusion_matrix(confusion_mtx, classes = range(10))"
   ]
  },
  {
   "cell_type": "code",
   "execution_count": 11,
   "metadata": {},
   "outputs": [
    {
     "data": {
      "image/png": "[encoded data removed]",
      "text/plain": [
       "<Figure size 432x288 with 6 Axes>"
      ]
     },
     "metadata": {
      "needs_background": "light"
     },
     "output_type": "display_data"
    }
   ],
   "source": [
    "# Errors are difference between predicted labels and true labels\n",
    "errors = (Y_pred_classes - Y_true != 0)\n",
    "\n",
    "Y_pred_classes_errors = Y_pred_classes[errors]\n",
    "Y_pred_errors = Y_pred[errors]\n",
    "Y_true_errors = Y_true[errors]\n",
    "X_val_errors = X_test[errors]\n",
    "\n",
    "def display_errors(errors_index,img_errors,pred_errors, obs_errors):\n",
    "    \"\"\" This function shows 6 images with their predicted and real labels\"\"\"\n",
    "    n = 0\n",
    "    nrows = 2\n",
    "    ncols = 3\n",
    "    fig, ax = plt.subplots(nrows,ncols,sharex=True,sharey=True)\n",
    "    for row in range(nrows):\n",
    "        for col in range(ncols):\n",
    "            error = errors_index[n]\n",
    "            ax[row,col].imshow((img_errors[error]).reshape((28,28)))\n",
    "            ax[row,col].set_title(\"Predicted label :{}\\nTrue label :{}\".format(pred_errors[error],obs_errors[error]))\n",
    "            n += 1\n",
    "\n",
    "# Probabilities of the wrong predicted numbers\n",
    "Y_pred_errors_prob = np.max(Y_pred_errors,axis = 1)\n",
    "\n",
    "# Predicted probabilities of the true values in the error set\n",
    "true_prob_errors = np.diagonal(np.take(Y_pred_errors, Y_true_errors, axis=1))\n",
    "\n",
    "# Difference between the probability of the predicted label and the true label\n",
    "delta_pred_true_errors = Y_pred_errors_prob - true_prob_errors\n",
    "\n",
    "# Sorted list of the delta prob errors\n",
    "sorted_dela_errors = np.argsort(delta_pred_true_errors)\n",
    "\n",
    "# Top 6 errors \n",
    "most_important_errors = sorted_dela_errors[-6:]\n",
    "\n",
    "# Show the top 6 errors\n",
    "display_errors(most_important_errors, X_val_errors, Y_pred_classes_errors, Y_true_errors)"
   ]
  },
  {
   "cell_type": "code",
   "execution_count": null,
   "metadata": {},
   "outputs": [],
   "source": []
  }
 ],
 "metadata": {
  "kernelspec": {
   "display_name": "tfenv",
   "language": "python",
   "name": "tfenv"
  },
  "language_info": {
   "codemirror_mode": {
    "name": "ipython",
    "version": 3
   },
   "file_extension": ".py",
   "mimetype": "text/x-python",
   "name": "python",
   "nbconvert_exporter": "python",
   "pygments_lexer": "ipython3",
   "version": "3.6.5"
  }
 },
 "nbformat": 4,
 "nbformat_minor": 2
}
